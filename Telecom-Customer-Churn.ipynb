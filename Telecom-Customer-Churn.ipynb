{
 "cells": [
  {
   "cell_type": "code",
   "execution_count": 2,
   "id": "f16178ca",
   "metadata": {},
   "outputs": [],
   "source": [
    "import numpy as np\n",
    "import pandas as pd \n",
    "import seaborn as sns\n",
    "import matplotlib.ticker as mtick\n",
    "import matplotlib.pyplot as plt\n",
    "\n",
    "sns.set(style = 'white')"
   ]
  },
  {
   "cell_type": "code",
   "execution_count": 3,
   "id": "39eb5e5c",
   "metadata": {},
   "outputs": [],
   "source": [
    "pd.set_option('display.max_columns', None)\n",
    "pd.set_option('display.width', None)\n",
    "pd.set_option('display.max_rows', 55)\n",
    "pd.set_option('display.float_format', lambda x: '%.3f' % x)"
   ]
  },
  {
   "cell_type": "code",
   "execution_count": 4,
   "id": "25e433ea",
   "metadata": {},
   "outputs": [],
   "source": [
    "#df = pd.read_csv('Telecom_Churn_Dataset.csv')\n",
    "# load dataset\n",
    "churn_data = pd.read_csv('churn_data.csv')\n"
   ]
  },
  {
   "cell_type": "code",
   "execution_count": 5,
   "id": "97cead59",
   "metadata": {},
   "outputs": [],
   "source": [
    "telecom = churn_data.copy()"
   ]
  },
  {
   "cell_type": "code",
   "execution_count": 6,
   "id": "e37224b4",
   "metadata": {},
   "outputs": [
    {
     "data": {
      "text/html": [
       "<div>\n",
       "<style scoped>\n",
       "    .dataframe tbody tr th:only-of-type {\n",
       "        vertical-align: middle;\n",
       "    }\n",
       "\n",
       "    .dataframe tbody tr th {\n",
       "        vertical-align: top;\n",
       "    }\n",
       "\n",
       "    .dataframe thead th {\n",
       "        text-align: right;\n",
       "    }\n",
       "</style>\n",
       "<table border=\"1\" class=\"dataframe\">\n",
       "  <thead>\n",
       "    <tr style=\"text-align: right;\">\n",
       "      <th></th>\n",
       "      <th>customerID</th>\n",
       "      <th>gender</th>\n",
       "      <th>SeniorCitizen</th>\n",
       "      <th>Partner</th>\n",
       "      <th>Dependents</th>\n",
       "      <th>tenure</th>\n",
       "      <th>PhoneService</th>\n",
       "      <th>MultipleLines</th>\n",
       "      <th>InternetService</th>\n",
       "      <th>OnlineSecurity</th>\n",
       "      <th>OnlineBackup</th>\n",
       "      <th>DeviceProtection</th>\n",
       "      <th>TechSupport</th>\n",
       "      <th>StreamingTV</th>\n",
       "      <th>StreamingMovies</th>\n",
       "      <th>Contract</th>\n",
       "      <th>PaperlessBilling</th>\n",
       "      <th>PaymentMethod</th>\n",
       "      <th>MonthlyCharges</th>\n",
       "      <th>TotalCharges</th>\n",
       "      <th>Churn</th>\n",
       "    </tr>\n",
       "  </thead>\n",
       "  <tbody>\n",
       "    <tr>\n",
       "      <th>0</th>\n",
       "      <td>7590-VHVEG</td>\n",
       "      <td>Female</td>\n",
       "      <td>0</td>\n",
       "      <td>Yes</td>\n",
       "      <td>No</td>\n",
       "      <td>1</td>\n",
       "      <td>No</td>\n",
       "      <td>No phone service</td>\n",
       "      <td>DSL</td>\n",
       "      <td>No</td>\n",
       "      <td>Yes</td>\n",
       "      <td>No</td>\n",
       "      <td>No</td>\n",
       "      <td>No</td>\n",
       "      <td>No</td>\n",
       "      <td>Month-to-month</td>\n",
       "      <td>Yes</td>\n",
       "      <td>Electronic check</td>\n",
       "      <td>29.850</td>\n",
       "      <td>29.85</td>\n",
       "      <td>No</td>\n",
       "    </tr>\n",
       "    <tr>\n",
       "      <th>1</th>\n",
       "      <td>5575-GNVDE</td>\n",
       "      <td>Male</td>\n",
       "      <td>0</td>\n",
       "      <td>No</td>\n",
       "      <td>No</td>\n",
       "      <td>34</td>\n",
       "      <td>Yes</td>\n",
       "      <td>No</td>\n",
       "      <td>DSL</td>\n",
       "      <td>Yes</td>\n",
       "      <td>No</td>\n",
       "      <td>Yes</td>\n",
       "      <td>No</td>\n",
       "      <td>No</td>\n",
       "      <td>No</td>\n",
       "      <td>One year</td>\n",
       "      <td>No</td>\n",
       "      <td>Mailed check</td>\n",
       "      <td>56.950</td>\n",
       "      <td>1889.5</td>\n",
       "      <td>No</td>\n",
       "    </tr>\n",
       "    <tr>\n",
       "      <th>2</th>\n",
       "      <td>3668-QPYBK</td>\n",
       "      <td>Male</td>\n",
       "      <td>0</td>\n",
       "      <td>No</td>\n",
       "      <td>No</td>\n",
       "      <td>2</td>\n",
       "      <td>Yes</td>\n",
       "      <td>No</td>\n",
       "      <td>DSL</td>\n",
       "      <td>Yes</td>\n",
       "      <td>Yes</td>\n",
       "      <td>No</td>\n",
       "      <td>No</td>\n",
       "      <td>No</td>\n",
       "      <td>No</td>\n",
       "      <td>Month-to-month</td>\n",
       "      <td>Yes</td>\n",
       "      <td>Mailed check</td>\n",
       "      <td>53.850</td>\n",
       "      <td>108.15</td>\n",
       "      <td>Yes</td>\n",
       "    </tr>\n",
       "    <tr>\n",
       "      <th>3</th>\n",
       "      <td>7795-CFOCW</td>\n",
       "      <td>Male</td>\n",
       "      <td>0</td>\n",
       "      <td>No</td>\n",
       "      <td>No</td>\n",
       "      <td>45</td>\n",
       "      <td>No</td>\n",
       "      <td>No phone service</td>\n",
       "      <td>DSL</td>\n",
       "      <td>Yes</td>\n",
       "      <td>No</td>\n",
       "      <td>Yes</td>\n",
       "      <td>Yes</td>\n",
       "      <td>No</td>\n",
       "      <td>No</td>\n",
       "      <td>One year</td>\n",
       "      <td>No</td>\n",
       "      <td>Bank transfer (automatic)</td>\n",
       "      <td>42.300</td>\n",
       "      <td>1840.75</td>\n",
       "      <td>No</td>\n",
       "    </tr>\n",
       "    <tr>\n",
       "      <th>4</th>\n",
       "      <td>9237-HQITU</td>\n",
       "      <td>Female</td>\n",
       "      <td>0</td>\n",
       "      <td>No</td>\n",
       "      <td>No</td>\n",
       "      <td>2</td>\n",
       "      <td>Yes</td>\n",
       "      <td>No</td>\n",
       "      <td>Fiber optic</td>\n",
       "      <td>No</td>\n",
       "      <td>No</td>\n",
       "      <td>No</td>\n",
       "      <td>No</td>\n",
       "      <td>No</td>\n",
       "      <td>No</td>\n",
       "      <td>Month-to-month</td>\n",
       "      <td>Yes</td>\n",
       "      <td>Electronic check</td>\n",
       "      <td>70.700</td>\n",
       "      <td>151.65</td>\n",
       "      <td>Yes</td>\n",
       "    </tr>\n",
       "  </tbody>\n",
       "</table>\n",
       "</div>"
      ],
      "text/plain": [
       "   customerID  gender  SeniorCitizen Partner Dependents  tenure PhoneService  \\\n",
       "0  7590-VHVEG  Female              0     Yes         No       1           No   \n",
       "1  5575-GNVDE    Male              0      No         No      34          Yes   \n",
       "2  3668-QPYBK    Male              0      No         No       2          Yes   \n",
       "3  7795-CFOCW    Male              0      No         No      45           No   \n",
       "4  9237-HQITU  Female              0      No         No       2          Yes   \n",
       "\n",
       "      MultipleLines InternetService OnlineSecurity OnlineBackup  \\\n",
       "0  No phone service             DSL             No          Yes   \n",
       "1                No             DSL            Yes           No   \n",
       "2                No             DSL            Yes          Yes   \n",
       "3  No phone service             DSL            Yes           No   \n",
       "4                No     Fiber optic             No           No   \n",
       "\n",
       "  DeviceProtection TechSupport StreamingTV StreamingMovies        Contract  \\\n",
       "0               No          No          No              No  Month-to-month   \n",
       "1              Yes          No          No              No        One year   \n",
       "2               No          No          No              No  Month-to-month   \n",
       "3              Yes         Yes          No              No        One year   \n",
       "4               No          No          No              No  Month-to-month   \n",
       "\n",
       "  PaperlessBilling              PaymentMethod  MonthlyCharges TotalCharges  \\\n",
       "0              Yes           Electronic check          29.850        29.85   \n",
       "1               No               Mailed check          56.950       1889.5   \n",
       "2              Yes               Mailed check          53.850       108.15   \n",
       "3               No  Bank transfer (automatic)          42.300      1840.75   \n",
       "4              Yes           Electronic check          70.700       151.65   \n",
       "\n",
       "  Churn  \n",
       "0    No  \n",
       "1    No  \n",
       "2   Yes  \n",
       "3    No  \n",
       "4   Yes  "
      ]
     },
     "execution_count": 6,
     "metadata": {},
     "output_type": "execute_result"
    }
   ],
   "source": [
    "telecom.head()"
   ]
  },
  {
   "cell_type": "markdown",
   "id": "c4d503c6",
   "metadata": {},
   "source": [
    "## Data Understanding\n",
    "### Classification Label\n",
    "Churn ==> Whether the customer churned or not (Yes or No)"
   ]
  },
  {
   "cell_type": "markdown",
   "id": "3463cd09",
   "metadata": {},
   "source": [
    "### Services Each Customer Has to Sign Up\n",
    "1. PhoneService\n",
    "2. MultipleLines\n",
    "3. InternetService\n",
    "4. OnlineSecurity\n",
    "5. OnlineBackup\n",
    "6. DeviceProtection\n",
    "7. TechSupport\n",
    "8. StreamingTV\n",
    "9. StreamingMovies"
   ]
  },
  {
   "cell_type": "markdown",
   "id": "89a59a34",
   "metadata": {},
   "source": [
    "### Customer Account Information\n",
    "1. Tenure\n",
    "2. Contact\n",
    "3. PaperlessBilling\n",
    "4. PaymentMethod\n",
    "5. MonthlyCharges\n",
    "6. TotalCharges"
   ]
  },
  {
   "cell_type": "markdown",
   "id": "3356f621",
   "metadata": {},
   "source": [
    "### Customer Demographic Info\n",
    "1. customerid\n",
    "2. gender\n",
    "3. seniorcitizen\n",
    "4. partner\n",
    "5. dependents"
   ]
  },
  {
   "cell_type": "code",
   "execution_count": 19,
   "id": "9468bb0d",
   "metadata": {},
   "outputs": [
    {
     "data": {
      "text/plain": [
       "Index(['customerid', 'gender', 'seniorcitizen', 'partner', 'dependents',\n",
       "       'tenure', 'phoneservice', 'multiplelines', 'internetservice',\n",
       "       'onlinesecurity', 'onlinebackup', 'deviceprotection', 'techsupport',\n",
       "       'streamingtv', 'streamingmovies', 'contract', 'paperlessbilling',\n",
       "       'paymentmethod', 'monthlycharges', 'totalcharges', 'churn'],\n",
       "      dtype='object')"
      ]
     },
     "execution_count": 19,
     "metadata": {},
     "output_type": "execute_result"
    }
   ],
   "source": [
    "# make all column names lowercase\n",
    "telecom.columns = map(str.lower, telecom.columns)\n",
    "telecom.columns"
   ]
  },
  {
   "cell_type": "code",
   "execution_count": 20,
   "id": "81df747c",
   "metadata": {},
   "outputs": [
    {
     "data": {
      "text/plain": [
       "(7043, 21)"
      ]
     },
     "execution_count": 20,
     "metadata": {},
     "output_type": "execute_result"
    }
   ],
   "source": [
    "telecom.shape"
   ]
  },
  {
   "cell_type": "code",
   "execution_count": 21,
   "id": "64620543",
   "metadata": {},
   "outputs": [
    {
     "data": {
      "text/html": [
       "<div>\n",
       "<style scoped>\n",
       "    .dataframe tbody tr th:only-of-type {\n",
       "        vertical-align: middle;\n",
       "    }\n",
       "\n",
       "    .dataframe tbody tr th {\n",
       "        vertical-align: top;\n",
       "    }\n",
       "\n",
       "    .dataframe thead th {\n",
       "        text-align: right;\n",
       "    }\n",
       "</style>\n",
       "<table border=\"1\" class=\"dataframe\">\n",
       "  <thead>\n",
       "    <tr style=\"text-align: right;\">\n",
       "      <th></th>\n",
       "      <th>customerid</th>\n",
       "      <th>gender</th>\n",
       "      <th>seniorcitizen</th>\n",
       "      <th>partner</th>\n",
       "      <th>dependents</th>\n",
       "      <th>tenure</th>\n",
       "      <th>phoneservice</th>\n",
       "      <th>multiplelines</th>\n",
       "      <th>internetservice</th>\n",
       "      <th>onlinesecurity</th>\n",
       "      <th>onlinebackup</th>\n",
       "      <th>deviceprotection</th>\n",
       "      <th>techsupport</th>\n",
       "      <th>streamingtv</th>\n",
       "      <th>streamingmovies</th>\n",
       "      <th>contract</th>\n",
       "      <th>paperlessbilling</th>\n",
       "      <th>paymentmethod</th>\n",
       "      <th>monthlycharges</th>\n",
       "      <th>totalcharges</th>\n",
       "      <th>churn</th>\n",
       "    </tr>\n",
       "  </thead>\n",
       "  <tbody>\n",
       "    <tr>\n",
       "      <th>0</th>\n",
       "      <td>7590-VHVEG</td>\n",
       "      <td>Female</td>\n",
       "      <td>0</td>\n",
       "      <td>Yes</td>\n",
       "      <td>No</td>\n",
       "      <td>1</td>\n",
       "      <td>No</td>\n",
       "      <td>No phone service</td>\n",
       "      <td>DSL</td>\n",
       "      <td>No</td>\n",
       "      <td>Yes</td>\n",
       "      <td>No</td>\n",
       "      <td>No</td>\n",
       "      <td>No</td>\n",
       "      <td>No</td>\n",
       "      <td>Month-to-month</td>\n",
       "      <td>Yes</td>\n",
       "      <td>Electronic check</td>\n",
       "      <td>29.850</td>\n",
       "      <td>29.85</td>\n",
       "      <td>No</td>\n",
       "    </tr>\n",
       "    <tr>\n",
       "      <th>1</th>\n",
       "      <td>5575-GNVDE</td>\n",
       "      <td>Male</td>\n",
       "      <td>0</td>\n",
       "      <td>No</td>\n",
       "      <td>No</td>\n",
       "      <td>34</td>\n",
       "      <td>Yes</td>\n",
       "      <td>No</td>\n",
       "      <td>DSL</td>\n",
       "      <td>Yes</td>\n",
       "      <td>No</td>\n",
       "      <td>Yes</td>\n",
       "      <td>No</td>\n",
       "      <td>No</td>\n",
       "      <td>No</td>\n",
       "      <td>One year</td>\n",
       "      <td>No</td>\n",
       "      <td>Mailed check</td>\n",
       "      <td>56.950</td>\n",
       "      <td>1889.5</td>\n",
       "      <td>No</td>\n",
       "    </tr>\n",
       "  </tbody>\n",
       "</table>\n",
       "</div>"
      ],
      "text/plain": [
       "   customerid  gender  seniorcitizen partner dependents  tenure phoneservice  \\\n",
       "0  7590-VHVEG  Female              0     Yes         No       1           No   \n",
       "1  5575-GNVDE    Male              0      No         No      34          Yes   \n",
       "\n",
       "      multiplelines internetservice onlinesecurity onlinebackup  \\\n",
       "0  No phone service             DSL             No          Yes   \n",
       "1                No             DSL            Yes           No   \n",
       "\n",
       "  deviceprotection techsupport streamingtv streamingmovies        contract  \\\n",
       "0               No          No          No              No  Month-to-month   \n",
       "1              Yes          No          No              No        One year   \n",
       "\n",
       "  paperlessbilling     paymentmethod  monthlycharges totalcharges churn  \n",
       "0              Yes  Electronic check          29.850        29.85    No  \n",
       "1               No      Mailed check          56.950       1889.5    No  "
      ]
     },
     "execution_count": 21,
     "metadata": {},
     "output_type": "execute_result"
    }
   ],
   "source": [
    "telecom.head(2)"
   ]
  },
  {
   "cell_type": "code",
   "execution_count": 22,
   "id": "85fa2761",
   "metadata": {},
   "outputs": [
    {
     "name": "stdout",
     "output_type": "stream",
     "text": [
      "Rows: 7043 \n",
      "\n",
      "Features: 21 \n",
      "\n",
      "Missing Values: 0 \n",
      "\n",
      "Unique Values: \n",
      "customerid          7043\n",
      "gender                 2\n",
      "seniorcitizen          2\n",
      "partner                2\n",
      "dependents             2\n",
      "tenure                73\n",
      "phoneservice           2\n",
      "multiplelines          3\n",
      "internetservice        3\n",
      "onlinesecurity         3\n",
      "onlinebackup           3\n",
      "deviceprotection       3\n",
      "techsupport            3\n",
      "streamingtv            3\n",
      "streamingmovies        3\n",
      "contract               3\n",
      "paperlessbilling       2\n",
      "paymentmethod          4\n",
      "monthlycharges      1585\n",
      "totalcharges        6531\n",
      "churn                  2\n",
      "dtype: int64 \n",
      "\n"
     ]
    }
   ],
   "source": [
    "def print_dataframe_info(telecom):\n",
    "    # Print number of rows in DF\n",
    "    print(f\"Rows: {telecom.shape[0]} \\n\")\n",
    "    \n",
    "    # Print number of features in DF\n",
    "    print(f\"Features: {telecom.shape[1]} \\n\")\n",
    "    \n",
    "    # Print total number of missing values\n",
    "    print(f\"Missing Values: {telecom.isnull().values.sum()} \\n\")\n",
    "    \n",
    "    # Print number of unique values per feature\n",
    "    print(f\"Unique Values: \\n{telecom.nunique()} \\n\")\n",
    "\n",
    "# Call the function with my DataFrame\n",
    "print_dataframe_info(telecom)"
   ]
  },
  {
   "cell_type": "code",
   "execution_count": 23,
   "id": "dc9d8ef2",
   "metadata": {},
   "outputs": [
    {
     "data": {
      "image/png": "[encoded data removed]",
      "text/plain": [
       "<Figure size 1600x500 with 1 Axes>"
      ]
     },
     "metadata": {},
     "output_type": "display_data"
    }
   ],
   "source": [
    "missing = pd.DataFrame((telecom.isnull().sum()) * 100 / telecom.shape[0]).reset_index()\n",
    "missing.columns = ['Column', 'Missing_Percentage']\n",
    "\n",
    "plt.figure(figsize=(16, 5))\n",
    "ax = sns.pointplot(x='Column', y='Missing_Percentage', data=missing)\n",
    "plt.xticks(rotation=90, fontsize=7)\n",
    "plt.title(\"Percentage of Missing values\")\n",
    "plt.ylabel(\"PERCENTAGE\")\n",
    "plt.show()"
   ]
  },
  {
   "cell_type": "markdown",
   "id": "e50786ac",
   "metadata": {},
   "source": [
    "from the figure, here have no missing value"
   ]
  },
  {
   "cell_type": "code",
   "execution_count": 24,
   "id": "9346a782",
   "metadata": {},
   "outputs": [
    {
     "data": {
      "text/plain": [
       "0"
      ]
     },
     "execution_count": 24,
     "metadata": {},
     "output_type": "execute_result"
    }
   ],
   "source": [
    "telecom[telecom.duplicated()].shape[0]"
   ]
  },
  {
   "cell_type": "code",
   "execution_count": 25,
   "id": "6b2d7dd3",
   "metadata": {},
   "outputs": [
    {
     "data": {
      "text/plain": [
       "customerid           object\n",
       "gender               object\n",
       "seniorcitizen         int64\n",
       "partner              object\n",
       "dependents           object\n",
       "tenure                int64\n",
       "phoneservice         object\n",
       "multiplelines        object\n",
       "internetservice      object\n",
       "onlinesecurity       object\n",
       "onlinebackup         object\n",
       "deviceprotection     object\n",
       "techsupport          object\n",
       "streamingtv          object\n",
       "streamingmovies      object\n",
       "contract             object\n",
       "paperlessbilling     object\n",
       "paymentmethod        object\n",
       "monthlycharges      float64\n",
       "totalcharges         object\n",
       "churn                object\n",
       "dtype: object"
      ]
     },
     "execution_count": 25,
     "metadata": {},
     "output_type": "execute_result"
    }
   ],
   "source": [
    "telecom.dtypes"
   ]
  },
  {
   "cell_type": "markdown",
   "id": "97162f57",
   "metadata": {},
   "source": [
    "There seems to be an issue with the data type in the TotalCharges column; it should be a float rather than an object. We'll need to convert it to a float."
   ]
  },
  {
   "cell_type": "code",
   "execution_count": 26,
   "id": "2180d908",
   "metadata": {},
   "outputs": [],
   "source": [
    "# Converting Total Charges to a numerical data type.\n",
    "telecom.totalcharges = pd.to_numeric(telecom.totalcharges, errors='coerce')"
   ]
  },
  {
   "cell_type": "markdown",
   "id": "1e8ac831",
   "metadata": {},
   "source": [
    "NOTE: When we use errors='coerce', it means that if pandas encounters any errors while converting the data, it will set the problematic entries to NaT (Not a Time) for datetime conversions or NaN (Not a Number) for other conversions, and continue processing the rest of the data without raising an error."
   ]
  },
  {
   "cell_type": "code",
   "execution_count": 27,
   "id": "22647abc",
   "metadata": {},
   "outputs": [
    {
     "data": {
      "text/html": [
       "<div>\n",
       "<style scoped>\n",
       "    .dataframe tbody tr th:only-of-type {\n",
       "        vertical-align: middle;\n",
       "    }\n",
       "\n",
       "    .dataframe tbody tr th {\n",
       "        vertical-align: top;\n",
       "    }\n",
       "\n",
       "    .dataframe thead th {\n",
       "        text-align: right;\n",
       "    }\n",
       "</style>\n",
       "<table border=\"1\" class=\"dataframe\">\n",
       "  <thead>\n",
       "    <tr style=\"text-align: right;\">\n",
       "      <th></th>\n",
       "      <th>count</th>\n",
       "      <th>mean</th>\n",
       "      <th>std</th>\n",
       "      <th>min</th>\n",
       "      <th>25%</th>\n",
       "      <th>50%</th>\n",
       "      <th>75%</th>\n",
       "      <th>max</th>\n",
       "    </tr>\n",
       "  </thead>\n",
       "  <tbody>\n",
       "    <tr>\n",
       "      <th>seniorcitizen</th>\n",
       "      <td>7043.000</td>\n",
       "      <td>0.162</td>\n",
       "      <td>0.369</td>\n",
       "      <td>0.000</td>\n",
       "      <td>0.000</td>\n",
       "      <td>0.000</td>\n",
       "      <td>0.000</td>\n",
       "      <td>1.000</td>\n",
       "    </tr>\n",
       "    <tr>\n",
       "      <th>tenure</th>\n",
       "      <td>7043.000</td>\n",
       "      <td>32.371</td>\n",
       "      <td>24.559</td>\n",
       "      <td>0.000</td>\n",
       "      <td>9.000</td>\n",
       "      <td>29.000</td>\n",
       "      <td>55.000</td>\n",
       "      <td>72.000</td>\n",
       "    </tr>\n",
       "    <tr>\n",
       "      <th>monthlycharges</th>\n",
       "      <td>7043.000</td>\n",
       "      <td>64.762</td>\n",
       "      <td>30.090</td>\n",
       "      <td>18.250</td>\n",
       "      <td>35.500</td>\n",
       "      <td>70.350</td>\n",
       "      <td>89.850</td>\n",
       "      <td>118.750</td>\n",
       "    </tr>\n",
       "    <tr>\n",
       "      <th>totalcharges</th>\n",
       "      <td>7032.000</td>\n",
       "      <td>2283.300</td>\n",
       "      <td>2266.771</td>\n",
       "      <td>18.800</td>\n",
       "      <td>401.450</td>\n",
       "      <td>1397.475</td>\n",
       "      <td>3794.738</td>\n",
       "      <td>8684.800</td>\n",
       "    </tr>\n",
       "  </tbody>\n",
       "</table>\n",
       "</div>"
      ],
      "text/plain": [
       "                  count     mean      std    min     25%      50%      75%  \\\n",
       "seniorcitizen  7043.000    0.162    0.369  0.000   0.000    0.000    0.000   \n",
       "tenure         7043.000   32.371   24.559  0.000   9.000   29.000   55.000   \n",
       "monthlycharges 7043.000   64.762   30.090 18.250  35.500   70.350   89.850   \n",
       "totalcharges   7032.000 2283.300 2266.771 18.800 401.450 1397.475 3794.738   \n",
       "\n",
       "                    max  \n",
       "seniorcitizen     1.000  \n",
       "tenure           72.000  \n",
       "monthlycharges  118.750  \n",
       "totalcharges   8684.800  "
      ]
     },
     "execution_count": 27,
     "metadata": {},
     "output_type": "execute_result"
    }
   ],
   "source": [
    "# Statistic descriptive\n",
    "telecom.describe().T"
   ]
  },
  {
   "cell_type": "markdown",
   "id": "464c1d71",
   "metadata": {},
   "source": [
    "We can take a decesion from above description:\n",
    "\n",
    "1. SeniorCitizen has minimum value is 0 and the maximum value is 1, so it must be categorical data.\n",
    "2. The average customer stayed in the company is 32 months and 75% of customer has a tenure of 55 month\n",
    "3. Average monthly charges are USD 64.76 and 75% of customers pay less than maximum charge of 118.750 USD\n",
    "4. The total average charges is 7032.00 USD. The range of total charges is 18.80 to 8684.80 USD"
   ]
  },
  {
   "cell_type": "markdown",
   "id": "b87f6142",
   "metadata": {},
   "source": [
    "### Check null values"
   ]
  },
  {
   "cell_type": "code",
   "execution_count": 28,
   "id": "a9fd228b",
   "metadata": {},
   "outputs": [
    {
     "name": "stdout",
     "output_type": "stream",
     "text": [
      "totalcharges, 0.0016 % Missing values\n"
     ]
    }
   ],
   "source": [
    "features_na = [feature for feature in telecom.columns if telecom[feature].isnull().sum() > 1]\n",
    "\n",
    "for feature in features_na:\n",
    "    print(f\"{feature}, {round(telecom[feature].isnull().mean(), 4)} % Missing values\")"
   ]
  },
  {
   "cell_type": "code",
   "execution_count": 29,
   "id": "dd5b4631",
   "metadata": {},
   "outputs": [
    {
     "data": {
      "text/html": [
       "<div>\n",
       "<style scoped>\n",
       "    .dataframe tbody tr th:only-of-type {\n",
       "        vertical-align: middle;\n",
       "    }\n",
       "\n",
       "    .dataframe tbody tr th {\n",
       "        vertical-align: top;\n",
       "    }\n",
       "\n",
       "    .dataframe thead th {\n",
       "        text-align: right;\n",
       "    }\n",
       "</style>\n",
       "<table border=\"1\" class=\"dataframe\">\n",
       "  <thead>\n",
       "    <tr style=\"text-align: right;\">\n",
       "      <th></th>\n",
       "      <th>customerid</th>\n",
       "      <th>gender</th>\n",
       "      <th>seniorcitizen</th>\n",
       "      <th>partner</th>\n",
       "      <th>dependents</th>\n",
       "      <th>tenure</th>\n",
       "      <th>phoneservice</th>\n",
       "      <th>multiplelines</th>\n",
       "      <th>internetservice</th>\n",
       "      <th>onlinesecurity</th>\n",
       "      <th>onlinebackup</th>\n",
       "      <th>deviceprotection</th>\n",
       "      <th>techsupport</th>\n",
       "      <th>streamingtv</th>\n",
       "      <th>streamingmovies</th>\n",
       "      <th>contract</th>\n",
       "      <th>paperlessbilling</th>\n",
       "      <th>paymentmethod</th>\n",
       "      <th>monthlycharges</th>\n",
       "      <th>totalcharges</th>\n",
       "      <th>churn</th>\n",
       "    </tr>\n",
       "  </thead>\n",
       "  <tbody>\n",
       "    <tr>\n",
       "      <th>488</th>\n",
       "      <td>4472-LVYGI</td>\n",
       "      <td>Female</td>\n",
       "      <td>0</td>\n",
       "      <td>Yes</td>\n",
       "      <td>Yes</td>\n",
       "      <td>0</td>\n",
       "      <td>No</td>\n",
       "      <td>No phone service</td>\n",
       "      <td>DSL</td>\n",
       "      <td>Yes</td>\n",
       "      <td>No</td>\n",
       "      <td>Yes</td>\n",
       "      <td>Yes</td>\n",
       "      <td>Yes</td>\n",
       "      <td>No</td>\n",
       "      <td>Two year</td>\n",
       "      <td>Yes</td>\n",
       "      <td>Bank transfer (automatic)</td>\n",
       "      <td>52.550</td>\n",
       "      <td>NaN</td>\n",
       "      <td>No</td>\n",
       "    </tr>\n",
       "    <tr>\n",
       "      <th>753</th>\n",
       "      <td>3115-CZMZD</td>\n",
       "      <td>Male</td>\n",
       "      <td>0</td>\n",
       "      <td>No</td>\n",
       "      <td>Yes</td>\n",
       "      <td>0</td>\n",
       "      <td>Yes</td>\n",
       "      <td>No</td>\n",
       "      <td>No</td>\n",
       "      <td>No internet service</td>\n",
       "      <td>No internet service</td>\n",
       "      <td>No internet service</td>\n",
       "      <td>No internet service</td>\n",
       "      <td>No internet service</td>\n",
       "      <td>No internet service</td>\n",
       "      <td>Two year</td>\n",
       "      <td>No</td>\n",
       "      <td>Mailed check</td>\n",
       "      <td>20.250</td>\n",
       "      <td>NaN</td>\n",
       "      <td>No</td>\n",
       "    </tr>\n",
       "    <tr>\n",
       "      <th>936</th>\n",
       "      <td>5709-LVOEQ</td>\n",
       "      <td>Female</td>\n",
       "      <td>0</td>\n",
       "      <td>Yes</td>\n",
       "      <td>Yes</td>\n",
       "      <td>0</td>\n",
       "      <td>Yes</td>\n",
       "      <td>No</td>\n",
       "      <td>DSL</td>\n",
       "      <td>Yes</td>\n",
       "      <td>Yes</td>\n",
       "      <td>Yes</td>\n",
       "      <td>No</td>\n",
       "      <td>Yes</td>\n",
       "      <td>Yes</td>\n",
       "      <td>Two year</td>\n",
       "      <td>No</td>\n",
       "      <td>Mailed check</td>\n",
       "      <td>80.850</td>\n",
       "      <td>NaN</td>\n",
       "      <td>No</td>\n",
       "    </tr>\n",
       "    <tr>\n",
       "      <th>1082</th>\n",
       "      <td>4367-NUYAO</td>\n",
       "      <td>Male</td>\n",
       "      <td>0</td>\n",
       "      <td>Yes</td>\n",
       "      <td>Yes</td>\n",
       "      <td>0</td>\n",
       "      <td>Yes</td>\n",
       "      <td>Yes</td>\n",
       "      <td>No</td>\n",
       "      <td>No internet service</td>\n",
       "      <td>No internet service</td>\n",
       "      <td>No internet service</td>\n",
       "      <td>No internet service</td>\n",
       "      <td>No internet service</td>\n",
       "      <td>No internet service</td>\n",
       "      <td>Two year</td>\n",
       "      <td>No</td>\n",
       "      <td>Mailed check</td>\n",
       "      <td>25.750</td>\n",
       "      <td>NaN</td>\n",
       "      <td>No</td>\n",
       "    </tr>\n",
       "    <tr>\n",
       "      <th>1340</th>\n",
       "      <td>1371-DWPAZ</td>\n",
       "      <td>Female</td>\n",
       "      <td>0</td>\n",
       "      <td>Yes</td>\n",
       "      <td>Yes</td>\n",
       "      <td>0</td>\n",
       "      <td>No</td>\n",
       "      <td>No phone service</td>\n",
       "      <td>DSL</td>\n",
       "      <td>Yes</td>\n",
       "      <td>Yes</td>\n",
       "      <td>Yes</td>\n",
       "      <td>Yes</td>\n",
       "      <td>Yes</td>\n",
       "      <td>No</td>\n",
       "      <td>Two year</td>\n",
       "      <td>No</td>\n",
       "      <td>Credit card (automatic)</td>\n",
       "      <td>56.050</td>\n",
       "      <td>NaN</td>\n",
       "      <td>No</td>\n",
       "    </tr>\n",
       "    <tr>\n",
       "      <th>3331</th>\n",
       "      <td>7644-OMVMY</td>\n",
       "      <td>Male</td>\n",
       "      <td>0</td>\n",
       "      <td>Yes</td>\n",
       "      <td>Yes</td>\n",
       "      <td>0</td>\n",
       "      <td>Yes</td>\n",
       "      <td>No</td>\n",
       "      <td>No</td>\n",
       "      <td>No internet service</td>\n",
       "      <td>No internet service</td>\n",
       "      <td>No internet service</td>\n",
       "      <td>No internet service</td>\n",
       "      <td>No internet service</td>\n",
       "      <td>No internet service</td>\n",
       "      <td>Two year</td>\n",
       "      <td>No</td>\n",
       "      <td>Mailed check</td>\n",
       "      <td>19.850</td>\n",
       "      <td>NaN</td>\n",
       "      <td>No</td>\n",
       "    </tr>\n",
       "    <tr>\n",
       "      <th>3826</th>\n",
       "      <td>3213-VVOLG</td>\n",
       "      <td>Male</td>\n",
       "      <td>0</td>\n",
       "      <td>Yes</td>\n",
       "      <td>Yes</td>\n",
       "      <td>0</td>\n",
       "      <td>Yes</td>\n",
       "      <td>Yes</td>\n",
       "      <td>No</td>\n",
       "      <td>No internet service</td>\n",
       "      <td>No internet service</td>\n",
       "      <td>No internet service</td>\n",
       "      <td>No internet service</td>\n",
       "      <td>No internet service</td>\n",
       "      <td>No internet service</td>\n",
       "      <td>Two year</td>\n",
       "      <td>No</td>\n",
       "      <td>Mailed check</td>\n",
       "      <td>25.350</td>\n",
       "      <td>NaN</td>\n",
       "      <td>No</td>\n",
       "    </tr>\n",
       "    <tr>\n",
       "      <th>4380</th>\n",
       "      <td>2520-SGTTA</td>\n",
       "      <td>Female</td>\n",
       "      <td>0</td>\n",
       "      <td>Yes</td>\n",
       "      <td>Yes</td>\n",
       "      <td>0</td>\n",
       "      <td>Yes</td>\n",
       "      <td>No</td>\n",
       "      <td>No</td>\n",
       "      <td>No internet service</td>\n",
       "      <td>No internet service</td>\n",
       "      <td>No internet service</td>\n",
       "      <td>No internet service</td>\n",
       "      <td>No internet service</td>\n",
       "      <td>No internet service</td>\n",
       "      <td>Two year</td>\n",
       "      <td>No</td>\n",
       "      <td>Mailed check</td>\n",
       "      <td>20.000</td>\n",
       "      <td>NaN</td>\n",
       "      <td>No</td>\n",
       "    </tr>\n",
       "    <tr>\n",
       "      <th>5218</th>\n",
       "      <td>2923-ARZLG</td>\n",
       "      <td>Male</td>\n",
       "      <td>0</td>\n",
       "      <td>Yes</td>\n",
       "      <td>Yes</td>\n",
       "      <td>0</td>\n",
       "      <td>Yes</td>\n",
       "      <td>No</td>\n",
       "      <td>No</td>\n",
       "      <td>No internet service</td>\n",
       "      <td>No internet service</td>\n",
       "      <td>No internet service</td>\n",
       "      <td>No internet service</td>\n",
       "      <td>No internet service</td>\n",
       "      <td>No internet service</td>\n",
       "      <td>One year</td>\n",
       "      <td>Yes</td>\n",
       "      <td>Mailed check</td>\n",
       "      <td>19.700</td>\n",
       "      <td>NaN</td>\n",
       "      <td>No</td>\n",
       "    </tr>\n",
       "    <tr>\n",
       "      <th>6670</th>\n",
       "      <td>4075-WKNIU</td>\n",
       "      <td>Female</td>\n",
       "      <td>0</td>\n",
       "      <td>Yes</td>\n",
       "      <td>Yes</td>\n",
       "      <td>0</td>\n",
       "      <td>Yes</td>\n",
       "      <td>Yes</td>\n",
       "      <td>DSL</td>\n",
       "      <td>No</td>\n",
       "      <td>Yes</td>\n",
       "      <td>Yes</td>\n",
       "      <td>Yes</td>\n",
       "      <td>Yes</td>\n",
       "      <td>No</td>\n",
       "      <td>Two year</td>\n",
       "      <td>No</td>\n",
       "      <td>Mailed check</td>\n",
       "      <td>73.350</td>\n",
       "      <td>NaN</td>\n",
       "      <td>No</td>\n",
       "    </tr>\n",
       "    <tr>\n",
       "      <th>6754</th>\n",
       "      <td>2775-SEFEE</td>\n",
       "      <td>Male</td>\n",
       "      <td>0</td>\n",
       "      <td>No</td>\n",
       "      <td>Yes</td>\n",
       "      <td>0</td>\n",
       "      <td>Yes</td>\n",
       "      <td>Yes</td>\n",
       "      <td>DSL</td>\n",
       "      <td>Yes</td>\n",
       "      <td>Yes</td>\n",
       "      <td>No</td>\n",
       "      <td>Yes</td>\n",
       "      <td>No</td>\n",
       "      <td>No</td>\n",
       "      <td>Two year</td>\n",
       "      <td>Yes</td>\n",
       "      <td>Bank transfer (automatic)</td>\n",
       "      <td>61.900</td>\n",
       "      <td>NaN</td>\n",
       "      <td>No</td>\n",
       "    </tr>\n",
       "  </tbody>\n",
       "</table>\n",
       "</div>"
      ],
      "text/plain": [
       "      customerid  gender  seniorcitizen partner dependents  tenure  \\\n",
       "488   4472-LVYGI  Female              0     Yes        Yes       0   \n",
       "753   3115-CZMZD    Male              0      No        Yes       0   \n",
       "936   5709-LVOEQ  Female              0     Yes        Yes       0   \n",
       "1082  4367-NUYAO    Male              0     Yes        Yes       0   \n",
       "1340  1371-DWPAZ  Female              0     Yes        Yes       0   \n",
       "3331  7644-OMVMY    Male              0     Yes        Yes       0   \n",
       "3826  3213-VVOLG    Male              0     Yes        Yes       0   \n",
       "4380  2520-SGTTA  Female              0     Yes        Yes       0   \n",
       "5218  2923-ARZLG    Male              0     Yes        Yes       0   \n",
       "6670  4075-WKNIU  Female              0     Yes        Yes       0   \n",
       "6754  2775-SEFEE    Male              0      No        Yes       0   \n",
       "\n",
       "     phoneservice     multiplelines internetservice       onlinesecurity  \\\n",
       "488            No  No phone service             DSL                  Yes   \n",
       "753           Yes                No              No  No internet service   \n",
       "936           Yes                No             DSL                  Yes   \n",
       "1082          Yes               Yes              No  No internet service   \n",
       "1340           No  No phone service             DSL                  Yes   \n",
       "3331          Yes                No              No  No internet service   \n",
       "3826          Yes               Yes              No  No internet service   \n",
       "4380          Yes                No              No  No internet service   \n",
       "5218          Yes                No              No  No internet service   \n",
       "6670          Yes               Yes             DSL                   No   \n",
       "6754          Yes               Yes             DSL                  Yes   \n",
       "\n",
       "             onlinebackup     deviceprotection          techsupport  \\\n",
       "488                    No                  Yes                  Yes   \n",
       "753   No internet service  No internet service  No internet service   \n",
       "936                   Yes                  Yes                   No   \n",
       "1082  No internet service  No internet service  No internet service   \n",
       "1340                  Yes                  Yes                  Yes   \n",
       "3331  No internet service  No internet service  No internet service   \n",
       "3826  No internet service  No internet service  No internet service   \n",
       "4380  No internet service  No internet service  No internet service   \n",
       "5218  No internet service  No internet service  No internet service   \n",
       "6670                  Yes                  Yes                  Yes   \n",
       "6754                  Yes                   No                  Yes   \n",
       "\n",
       "              streamingtv      streamingmovies  contract paperlessbilling  \\\n",
       "488                   Yes                   No  Two year              Yes   \n",
       "753   No internet service  No internet service  Two year               No   \n",
       "936                   Yes                  Yes  Two year               No   \n",
       "1082  No internet service  No internet service  Two year               No   \n",
       "1340                  Yes                   No  Two year               No   \n",
       "3331  No internet service  No internet service  Two year               No   \n",
       "3826  No internet service  No internet service  Two year               No   \n",
       "4380  No internet service  No internet service  Two year               No   \n",
       "5218  No internet service  No internet service  One year              Yes   \n",
       "6670                  Yes                   No  Two year               No   \n",
       "6754                   No                   No  Two year              Yes   \n",
       "\n",
       "                  paymentmethod  monthlycharges  totalcharges churn  \n",
       "488   Bank transfer (automatic)          52.550           NaN    No  \n",
       "753                Mailed check          20.250           NaN    No  \n",
       "936                Mailed check          80.850           NaN    No  \n",
       "1082               Mailed check          25.750           NaN    No  \n",
       "1340    Credit card (automatic)          56.050           NaN    No  \n",
       "3331               Mailed check          19.850           NaN    No  \n",
       "3826               Mailed check          25.350           NaN    No  \n",
       "4380               Mailed check          20.000           NaN    No  \n",
       "5218               Mailed check          19.700           NaN    No  \n",
       "6670               Mailed check          73.350           NaN    No  \n",
       "6754  Bank transfer (automatic)          61.900           NaN    No  "
      ]
     },
     "execution_count": 29,
     "metadata": {},
     "output_type": "execute_result"
    }
   ],
   "source": [
    "# Check observation of missing values\n",
    "\n",
    "telecom[telecom[features_na[0]].isnull()]\n",
    "#telecom[telecom[\"totalcharges\"].isnull()]"
   ]
  },
  {
   "cell_type": "markdown",
   "id": "f7052888",
   "metadata": {},
   "source": [
    "At the above dataset, we see that there are 11 missing values for Total Charges. Let us remove all of these 11 rows from our dataset"
   ]
  },
  {
   "cell_type": "code",
   "execution_count": 30,
   "id": "8947ae24",
   "metadata": {},
   "outputs": [],
   "source": [
    "# drop missing values\n",
    "telecom.dropna(inplace=True)\n",
    "\n",
    "# drop customerID \n",
    "telecom.drop('customerid', axis=1, inplace=True)"
   ]
  },
  {
   "cell_type": "code",
   "execution_count": 31,
   "id": "a4f3a68d",
   "metadata": {},
   "outputs": [
    {
     "data": {
      "text/plain": [
       "0"
      ]
     },
     "execution_count": 31,
     "metadata": {},
     "output_type": "execute_result"
    }
   ],
   "source": [
    "telecom.totalcharges.isnull().sum()"
   ]
  },
  {
   "cell_type": "code",
   "execution_count": 32,
   "id": "328d5629",
   "metadata": {},
   "outputs": [
    {
     "data": {
      "text/plain": [
       "gender              0\n",
       "seniorcitizen       0\n",
       "partner             0\n",
       "dependents          0\n",
       "tenure              0\n",
       "phoneservice        0\n",
       "multiplelines       0\n",
       "internetservice     0\n",
       "onlinesecurity      0\n",
       "onlinebackup        0\n",
       "deviceprotection    0\n",
       "techsupport         0\n",
       "streamingtv         0\n",
       "streamingmovies     0\n",
       "contract            0\n",
       "paperlessbilling    0\n",
       "paymentmethod       0\n",
       "monthlycharges      0\n",
       "totalcharges        0\n",
       "churn               0\n",
       "dtype: int64"
      ]
     },
     "execution_count": 32,
     "metadata": {},
     "output_type": "execute_result"
    }
   ],
   "source": [
    "telecom.isnull().sum()"
   ]
  },
  {
   "cell_type": "code",
   "execution_count": 33,
   "id": "e04d8fef",
   "metadata": {},
   "outputs": [
    {
     "data": {
      "text/plain": [
       "<Axes: >"
      ]
     },
     "execution_count": 33,
     "metadata": {},
     "output_type": "execute_result"
    },
    {
     "data": {
      "image/png": "[encoded data removed]",
      "text/plain": [
       "<Figure size 640x480 with 2 Axes>"
      ]
     },
     "metadata": {},
     "output_type": "display_data"
    }
   ],
   "source": [
    "# heatmap for missing value\n",
    "sns.heatmap(telecom.isnull())"
   ]
  },
  {
   "cell_type": "markdown",
   "id": "f077f879",
   "metadata": {},
   "source": [
    "In this dataset, there have no any missing value"
   ]
  },
  {
   "cell_type": "markdown",
   "id": "90ab11d1",
   "metadata": {},
   "source": [
    "### Check Unique Values"
   ]
  },
  {
   "cell_type": "code",
   "execution_count": 34,
   "id": "d1fdf08f",
   "metadata": {},
   "outputs": [
    {
     "name": "stdout",
     "output_type": "stream",
     "text": [
      "gender \t\t: ['Female' 'Male'] , (Total: 2)\n",
      "partner \t\t: ['Yes' 'No'] , (Total: 2)\n",
      "dependents \t\t: ['No' 'Yes'] , (Total: 2)\n",
      "phoneservice \t\t: ['No' 'Yes'] , (Total: 2)\n",
      "multiplelines \t\t: ['No phone service' 'No' 'Yes'] , (Total: 3)\n",
      "internetservice \t\t: ['DSL' 'Fiber optic' 'No'] , (Total: 3)\n",
      "onlinesecurity \t\t: ['No' 'Yes' 'No internet service'] , (Total: 3)\n",
      "onlinebackup \t\t: ['Yes' 'No' 'No internet service'] , (Total: 3)\n",
      "deviceprotection \t\t: ['No' 'Yes' 'No internet service'] , (Total: 3)\n",
      "techsupport \t\t: ['No' 'Yes' 'No internet service'] , (Total: 3)\n",
      "streamingtv \t\t: ['No' 'Yes' 'No internet service'] , (Total: 3)\n",
      "streamingmovies \t\t: ['No' 'Yes' 'No internet service'] , (Total: 3)\n",
      "contract \t\t: ['Month-to-month' 'One year' 'Two year'] , (Total: 3)\n",
      "paperlessbilling \t\t: ['Yes' 'No'] , (Total: 2)\n",
      "paymentmethod \t\t: ['Electronic check' 'Mailed check' 'Bank transfer (automatic)'\n",
      " 'Credit card (automatic)'] , (Total: 4)\n",
      "churn \t\t: ['No' 'Yes'] , (Total: 2)\n"
     ]
    }
   ],
   "source": [
    "#tele= telecom.columns.tolist()\n",
    "#for i in tele:\n",
    "    #print(i, \"unique value:\", telecom[i].unique())\n",
    "    #print(f\"{i} unique value: {telecom[i].unique()}\")\n",
    "\n",
    "\n",
    "# to check unique value without int or float in dataset\n",
    "def print_non_numeric_unique_values(telecom):\n",
    "    for col in telecom.columns.tolist():\n",
    "        if telecom[col].dtype != 'int64' and telecom[col].dtype != 'float':\n",
    "            print(f'{col} \\t\\t: {telecom[col].unique()} , (Total: {len(telecom[col].unique())})')\n",
    "\n",
    "# Call the function with your DataFrame\n",
    "print_non_numeric_unique_values(telecom)"
   ]
  },
  {
   "cell_type": "markdown",
   "id": "74ca3624",
   "metadata": {},
   "source": [
    "At the payment method, The word \"(automatic)\" must be deleted because when we visualize it will take more space which is very unnecessary."
   ]
  },
  {
   "cell_type": "code",
   "execution_count": 35,
   "id": "b183a7c4",
   "metadata": {},
   "outputs": [],
   "source": [
    "#df[\"PaymentMethod\"] = df[\"PaymentMethod\"].str.replace(\" (automatic)\", \"\", regex=False)\n",
    "telecom['paymentmethod'] = telecom['paymentmethod'].str.replace(\" (automatic)\", \"\", regex = False)"
   ]
  },
  {
   "cell_type": "code",
   "execution_count": 36,
   "id": "14502c02",
   "metadata": {},
   "outputs": [
    {
     "data": {
      "text/plain": [
       "array(['Electronic check', 'Mailed check', 'Bank transfer', 'Credit card'],\n",
       "      dtype=object)"
      ]
     },
     "execution_count": 36,
     "metadata": {},
     "output_type": "execute_result"
    }
   ],
   "source": [
    "telecom['paymentmethod'].unique()"
   ]
  },
  {
   "cell_type": "markdown",
   "id": "5b50f428",
   "metadata": {},
   "source": [
    "### Visualisation"
   ]
  },
  {
   "cell_type": "code",
   "execution_count": 37,
   "id": "34ff9e70",
   "metadata": {},
   "outputs": [
    {
     "data": {
      "image/png": "[encoded data removed]",
      "text/plain": [
       "<Figure size 640x480 with 1 Axes>"
      ]
     },
     "metadata": {},
     "output_type": "display_data"
    }
   ],
   "source": [
    "gender_percentage= telecom['gender'].value_counts()*100.0 /len(telecom)\n",
    "ax = gender_percentage.plot(kind='bar', stacked = True, rot = 0, color = ['#4D3425','#E4512B'])\n",
    "ax.yaxis.set_major_formatter(mtick.PercentFormatter())\n",
    "#ax.set_ylabel('% Cusstomers')\n",
    "ax.set_xlabel('Gender')\n",
    "ax.set_ylabel('% Customers')\n",
    "ax.set_title('Gender Distribution')\n",
    "\n",
    "# create a list to collect the plt.patches data\n",
    "#totals = []\n",
    "\n",
    "\n",
    "\n",
    "# find the values and append to list\n",
    "#for i in ax.patches:\n",
    "    #totals.append(i.get_width())\n",
    "\n",
    "# set individual bar lables using above list\n",
    "#total = sum(totals)\n",
    "\n",
    "for i in ax.patches:\n",
    "    # get_width pulls left or right; get_y pushes up or down\n",
    "    ax.text(i.get_x()+.17, i.get_height()-3.5, \n",
    "            str(round(i.get_height(), 2))+'%',\n",
    "            #str(round((i.get_height()/total), 1))+'%'\n",
    "            fontsize=12,\n",
    "            color='white',\n",
    "           weight = 'bold')\n",
    "\n",
    "# Adjust the plot margins to ensure all labels are visible\n",
    "plt.tight_layout()\n",
    "\n"
   ]
  },
  {
   "cell_type": "code",
   "execution_count": 51,
   "id": "a731e3ec",
   "metadata": {},
   "outputs": [
    {
     "data": {
      "text/plain": [
       "count   7032.000\n",
       "mean    2283.147\n",
       "std     2264.703\n",
       "min       18.800\n",
       "25%      397.800\n",
       "50%     1394.575\n",
       "75%     3791.250\n",
       "max     8550.000\n",
       "Name: totalcharges, dtype: float64"
      ]
     },
     "execution_count": 51,
     "metadata": {},
     "output_type": "execute_result"
    }
   ],
   "source": [
    "# Examine the distribution of TotalCharges\n",
    "telecom.totalcharges.describe()"
   ]
  },
  {
   "cell_type": "code",
   "execution_count": 62,
   "id": "814cbfc5",
   "metadata": {},
   "outputs": [
    {
     "data": {
      "text/plain": [
       "4466.89"
      ]
     },
     "execution_count": 62,
     "metadata": {},
     "output_type": "execute_result"
    }
   ],
   "source": [
    "#find the 80th percentile of the data in total charges\n",
    "telecom.totalcharges.quantile(0.8)"
   ]
  },
  {
   "cell_type": "code",
   "execution_count": 63,
   "id": "041c12aa",
   "metadata": {},
   "outputs": [],
   "source": [
    "telecom.totalcharges = telecom.tenure * telecom.monthlycharges"
   ]
  },
  {
   "cell_type": "code",
   "execution_count": 64,
   "id": "2f5f8ced",
   "metadata": {},
   "outputs": [
    {
     "data": {
      "text/plain": [
       "(0, 20)"
      ]
     },
     "execution_count": 64,
     "metadata": {},
     "output_type": "execute_result"
    }
   ],
   "source": [
    "telecom[telecom.tenure * telecom.monthlycharges != telecom.totalcharges].shape"
   ]
  },
  {
   "cell_type": "code",
   "execution_count": 65,
   "id": "317fc240",
   "metadata": {},
   "outputs": [
    {
     "data": {
      "image/png": "[encoded data removed]",
      "text/plain": [
       "<Figure size 640x480 with 1 Axes>"
      ]
     },
     "metadata": {},
     "output_type": "display_data"
    }
   ],
   "source": [
    "# Examine the distribution of TotalCharges\n",
    "plt.hist(data = telecom, x = 'TotalCharges');"
   ]
  },
  {
   "cell_type": "code",
   "execution_count": 54,
   "id": "310d0650",
   "metadata": {},
   "outputs": [
    {
     "data": {
      "text/plain": [
       "count   7032.000\n",
       "mean      32.422\n",
       "std       24.545\n",
       "min        1.000\n",
       "25%        9.000\n",
       "50%       29.000\n",
       "75%       55.000\n",
       "max       72.000\n",
       "Name: tenure, dtype: float64"
      ]
     },
     "execution_count": 54,
     "metadata": {},
     "output_type": "execute_result"
    }
   ],
   "source": [
    "telecom.tenure.describe()"
   ]
  },
  {
   "cell_type": "code",
   "execution_count": 60,
   "id": "fe785751",
   "metadata": {},
   "outputs": [
    {
     "data": {
      "image/png": "[encoded data removed]",
      "text/plain": [
       "<Figure size 640x480 with 1 Axes>"
      ]
     },
     "metadata": {},
     "output_type": "display_data"
    }
   ],
   "source": [
    "# show the distribution of tenure.\n",
    "plt.hist(data = telecom, x = 'tenure');"
   ]
  },
  {
   "cell_type": "code",
   "execution_count": 58,
   "id": "b4e331e4",
   "metadata": {},
   "outputs": [
    {
     "data": {
      "text/plain": [
       "(680, 20)"
      ]
     },
     "execution_count": 58,
     "metadata": {},
     "output_type": "execute_result"
    }
   ],
   "source": [
    "telecom.query('phoneservice == \"No\"').shape"
   ]
  },
  {
   "cell_type": "code",
   "execution_count": 59,
   "id": "726afe78",
   "metadata": {},
   "outputs": [],
   "source": [
    "def desc(title=None, xscale=None, yscale=None, xlabel=None, ylabel=None, xlim=None, ylim=None, xticks1=None, xticks2=None, yticks1=None, yticks2=None,legend_title=None, legend_labels=None):\n",
    "    if title:\n",
    "        plt.title(title);\n",
    "    if xscale:\n",
    "        plt.xscale(xscale);\n",
    "    if yscale:\n",
    "        plt.yscale(yscale);\n",
    "    if xlabel:\n",
    "        plt.xlabel(xlabel);\n",
    "    if ylabel:\n",
    "        plt.ylabel(ylabel);\n",
    "    if xlim:\n",
    "        plt.xlim(xlim);\n",
    "    if ylim:\n",
    "        plt.ylim(ylim);\n",
    "    if xticks1:\n",
    "        plt.xticks(xticks1, xticks2);\n",
    "    if yticks1:\n",
    "        plt.yticks(yticks1, yticks2);\n",
    "    if legend_title:\n",
    "        plt.legend(title=legend_title);\n",
    "        if legend_labels:\n",
    "            plt.legend(title=legend_title, labels=legend_labels);"
   ]
  },
  {
   "cell_type": "code",
   "execution_count": null,
   "id": "5e0fced1",
   "metadata": {},
   "outputs": [],
   "source": []
  }
 ],
 "metadata": {
  "kernelspec": {
   "display_name": "Python 3 (ipykernel)",
   "language": "python",
   "name": "python3"
  },
  "language_info": {
   "codemirror_mode": {
    "name": "ipython",
    "version": 3
   },
   "file_extension": ".py",
   "mimetype": "text/x-python",
   "name": "python",
   "nbconvert_exporter": "python",
   "pygments_lexer": "ipython3",
   "version": "3.11.5"
  }
 },
 "nbformat": 4,
 "nbformat_minor": 5
}
